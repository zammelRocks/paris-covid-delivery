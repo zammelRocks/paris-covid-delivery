{
 "cells": [
  {
   "cell_type": "code",
   "execution_count": 43,
   "id": "4d07636f",
   "metadata": {},
   "outputs": [],
   "source": [
    "import pandas as pd"
   ]
  },
  {
   "cell_type": "code",
   "execution_count": 106,
   "id": "40f24c43",
   "metadata": {},
   "outputs": [
    {
     "data": {
      "text/html": [
       "<div>\n",
       "<style scoped>\n",
       "    .dataframe tbody tr th:only-of-type {\n",
       "        vertical-align: middle;\n",
       "    }\n",
       "\n",
       "    .dataframe tbody tr th {\n",
       "        vertical-align: top;\n",
       "    }\n",
       "\n",
       "    .dataframe thead th {\n",
       "        text-align: right;\n",
       "    }\n",
       "</style>\n",
       "<table border=\"1\" class=\"dataframe\">\n",
       "  <thead>\n",
       "    <tr style=\"text-align: right;\">\n",
       "      <th></th>\n",
       "      <th>datasetid</th>\n",
       "      <th>recordid</th>\n",
       "      <th>fields</th>\n",
       "      <th>geometry</th>\n",
       "      <th>record_timestamp</th>\n",
       "    </tr>\n",
       "  </thead>\n",
       "  <tbody>\n",
       "    <tr>\n",
       "      <th>0</th>\n",
       "      <td>coronavirus-commercants-parisiens-livraison-a-...</td>\n",
       "      <td>8cdb94f6c8d5342218e9500c1dbc8b307ddb2099</td>\n",
       "      <td>{'type_de_commerce': 'Boulangerie - pâtisserie...</td>\n",
       "      <td>{'type': 'Point', 'coordinates': [2.3232496744...</td>\n",
       "      <td>2022-12-16T19:10:06.309+01:00</td>\n",
       "    </tr>\n",
       "    <tr>\n",
       "      <th>1</th>\n",
       "      <td>coronavirus-commercants-parisiens-livraison-a-...</td>\n",
       "      <td>95c1a9a1194e38b5a4196636f1b03c86b46db859</td>\n",
       "      <td>{'type_de_commerce': 'Boucherie - charcuterie ...</td>\n",
       "      <td>{'type': 'Point', 'coordinates': [2.3062393712...</td>\n",
       "      <td>2022-12-16T19:10:06.309+01:00</td>\n",
       "    </tr>\n",
       "    <tr>\n",
       "      <th>2</th>\n",
       "      <td>coronavirus-commercants-parisiens-livraison-a-...</td>\n",
       "      <td>50e59abe1d841f955aed7dd6ec170fe01fed41cd</td>\n",
       "      <td>{'type_de_commerce': 'Boucherie - charcuterie ...</td>\n",
       "      <td>{'type': 'Point', 'coordinates': [2.3538704492...</td>\n",
       "      <td>2022-12-16T19:10:06.309+01:00</td>\n",
       "    </tr>\n",
       "    <tr>\n",
       "      <th>3</th>\n",
       "      <td>coronavirus-commercants-parisiens-livraison-a-...</td>\n",
       "      <td>118639ee167b915b6eb20ea5c71b644613f8ed17</td>\n",
       "      <td>{'type_de_commerce': 'Fromagerie', 'nom_du_com...</td>\n",
       "      <td>{'type': 'Point', 'coordinates': [2.3580996501...</td>\n",
       "      <td>2022-12-16T19:10:06.309+01:00</td>\n",
       "    </tr>\n",
       "    <tr>\n",
       "      <th>4</th>\n",
       "      <td>coronavirus-commercants-parisiens-livraison-a-...</td>\n",
       "      <td>768a423877c4d666737eba576908f168359ef254</td>\n",
       "      <td>{'type_de_commerce': 'Boulangerie - pâtisserie...</td>\n",
       "      <td>{'type': 'Point', 'coordinates': [2.3552198705...</td>\n",
       "      <td>2022-12-16T19:10:06.309+01:00</td>\n",
       "    </tr>\n",
       "    <tr>\n",
       "      <th>...</th>\n",
       "      <td>...</td>\n",
       "      <td>...</td>\n",
       "      <td>...</td>\n",
       "      <td>...</td>\n",
       "      <td>...</td>\n",
       "    </tr>\n",
       "    <tr>\n",
       "      <th>2498</th>\n",
       "      <td>coronavirus-commercants-parisiens-livraison-a-...</td>\n",
       "      <td>829af5bcf844f13d2196cd35d15a3741de448fa2</td>\n",
       "      <td>{'type_de_commerce': 'Restaurant ou traiteur',...</td>\n",
       "      <td>{'type': 'Point', 'coordinates': [2.3384922284...</td>\n",
       "      <td>2022-12-16T19:10:06.309+01:00</td>\n",
       "    </tr>\n",
       "    <tr>\n",
       "      <th>2499</th>\n",
       "      <td>coronavirus-commercants-parisiens-livraison-a-...</td>\n",
       "      <td>a62e787640dc3d68eedd98a0a5185f4ee49a9e52</td>\n",
       "      <td>{'type_de_commerce': 'Restaurant ou traiteur',...</td>\n",
       "      <td>{'type': 'Point', 'coordinates': [2.3377787308...</td>\n",
       "      <td>2022-12-16T19:10:06.309+01:00</td>\n",
       "    </tr>\n",
       "    <tr>\n",
       "      <th>2500</th>\n",
       "      <td>coronavirus-commercants-parisiens-livraison-a-...</td>\n",
       "      <td>71cc7cccc04c2b0e3bfc4d4b901d04ed137d271d</td>\n",
       "      <td>{'geo_point_2d': [48.871943565248685, 2.362466...</td>\n",
       "      <td>{'type': 'Point', 'coordinates': [2.3624669757...</td>\n",
       "      <td>2022-12-16T19:10:06.309+01:00</td>\n",
       "    </tr>\n",
       "    <tr>\n",
       "      <th>2501</th>\n",
       "      <td>coronavirus-commercants-parisiens-livraison-a-...</td>\n",
       "      <td>2a9e4e9e77d3f77e833fece74b30f1d7658dbf43</td>\n",
       "      <td>{'type_de_commerce': 'Restaurant ou traiteur',...</td>\n",
       "      <td>{'type': 'Point', 'coordinates': [2.2863697232...</td>\n",
       "      <td>2022-12-16T19:10:06.309+01:00</td>\n",
       "    </tr>\n",
       "    <tr>\n",
       "      <th>2502</th>\n",
       "      <td>coronavirus-commercants-parisiens-livraison-a-...</td>\n",
       "      <td>aa459ea7b0b3182989d1bd1cc0ade0863c4ecf18</td>\n",
       "      <td>{'type_de_commerce': 'Fromagerie', 'nom_du_com...</td>\n",
       "      <td>{'type': 'Point', 'coordinates': [2.3860569592...</td>\n",
       "      <td>2022-12-16T19:10:06.309+01:00</td>\n",
       "    </tr>\n",
       "  </tbody>\n",
       "</table>\n",
       "<p>2503 rows × 5 columns</p>\n",
       "</div>"
      ],
      "text/plain": [
       "                                              datasetid  \\\n",
       "0     coronavirus-commercants-parisiens-livraison-a-...   \n",
       "1     coronavirus-commercants-parisiens-livraison-a-...   \n",
       "2     coronavirus-commercants-parisiens-livraison-a-...   \n",
       "3     coronavirus-commercants-parisiens-livraison-a-...   \n",
       "4     coronavirus-commercants-parisiens-livraison-a-...   \n",
       "...                                                 ...   \n",
       "2498  coronavirus-commercants-parisiens-livraison-a-...   \n",
       "2499  coronavirus-commercants-parisiens-livraison-a-...   \n",
       "2500  coronavirus-commercants-parisiens-livraison-a-...   \n",
       "2501  coronavirus-commercants-parisiens-livraison-a-...   \n",
       "2502  coronavirus-commercants-parisiens-livraison-a-...   \n",
       "\n",
       "                                      recordid  \\\n",
       "0     8cdb94f6c8d5342218e9500c1dbc8b307ddb2099   \n",
       "1     95c1a9a1194e38b5a4196636f1b03c86b46db859   \n",
       "2     50e59abe1d841f955aed7dd6ec170fe01fed41cd   \n",
       "3     118639ee167b915b6eb20ea5c71b644613f8ed17   \n",
       "4     768a423877c4d666737eba576908f168359ef254   \n",
       "...                                        ...   \n",
       "2498  829af5bcf844f13d2196cd35d15a3741de448fa2   \n",
       "2499  a62e787640dc3d68eedd98a0a5185f4ee49a9e52   \n",
       "2500  71cc7cccc04c2b0e3bfc4d4b901d04ed137d271d   \n",
       "2501  2a9e4e9e77d3f77e833fece74b30f1d7658dbf43   \n",
       "2502  aa459ea7b0b3182989d1bd1cc0ade0863c4ecf18   \n",
       "\n",
       "                                                 fields  \\\n",
       "0     {'type_de_commerce': 'Boulangerie - pâtisserie...   \n",
       "1     {'type_de_commerce': 'Boucherie - charcuterie ...   \n",
       "2     {'type_de_commerce': 'Boucherie - charcuterie ...   \n",
       "3     {'type_de_commerce': 'Fromagerie', 'nom_du_com...   \n",
       "4     {'type_de_commerce': 'Boulangerie - pâtisserie...   \n",
       "...                                                 ...   \n",
       "2498  {'type_de_commerce': 'Restaurant ou traiteur',...   \n",
       "2499  {'type_de_commerce': 'Restaurant ou traiteur',...   \n",
       "2500  {'geo_point_2d': [48.871943565248685, 2.362466...   \n",
       "2501  {'type_de_commerce': 'Restaurant ou traiteur',...   \n",
       "2502  {'type_de_commerce': 'Fromagerie', 'nom_du_com...   \n",
       "\n",
       "                                               geometry  \\\n",
       "0     {'type': 'Point', 'coordinates': [2.3232496744...   \n",
       "1     {'type': 'Point', 'coordinates': [2.3062393712...   \n",
       "2     {'type': 'Point', 'coordinates': [2.3538704492...   \n",
       "3     {'type': 'Point', 'coordinates': [2.3580996501...   \n",
       "4     {'type': 'Point', 'coordinates': [2.3552198705...   \n",
       "...                                                 ...   \n",
       "2498  {'type': 'Point', 'coordinates': [2.3384922284...   \n",
       "2499  {'type': 'Point', 'coordinates': [2.3377787308...   \n",
       "2500  {'type': 'Point', 'coordinates': [2.3624669757...   \n",
       "2501  {'type': 'Point', 'coordinates': [2.2863697232...   \n",
       "2502  {'type': 'Point', 'coordinates': [2.3860569592...   \n",
       "\n",
       "                   record_timestamp  \n",
       "0     2022-12-16T19:10:06.309+01:00  \n",
       "1     2022-12-16T19:10:06.309+01:00  \n",
       "2     2022-12-16T19:10:06.309+01:00  \n",
       "3     2022-12-16T19:10:06.309+01:00  \n",
       "4     2022-12-16T19:10:06.309+01:00  \n",
       "...                             ...  \n",
       "2498  2022-12-16T19:10:06.309+01:00  \n",
       "2499  2022-12-16T19:10:06.309+01:00  \n",
       "2500  2022-12-16T19:10:06.309+01:00  \n",
       "2501  2022-12-16T19:10:06.309+01:00  \n",
       "2502  2022-12-16T19:10:06.309+01:00  \n",
       "\n",
       "[2503 rows x 5 columns]"
      ]
     },
     "execution_count": 106,
     "metadata": {},
     "output_type": "execute_result"
    }
   ],
   "source": [
    "df=pd.read_json('LivraisonCovid.json')\n",
    "df"
   ]
  },
  {
   "cell_type": "code",
   "execution_count": 107,
   "id": "36df645d",
   "metadata": {},
   "outputs": [
    {
     "data": {
      "text/plain": [
       "0    {'type_de_commerce': 'Boulangerie - pâtisserie...\n",
       "1    {'type_de_commerce': 'Boucherie - charcuterie ...\n",
       "2    {'type_de_commerce': 'Boucherie - charcuterie ...\n",
       "3    {'type_de_commerce': 'Fromagerie', 'nom_du_com...\n",
       "4    {'type_de_commerce': 'Boulangerie - pâtisserie...\n",
       "Name: fields, dtype: object"
      ]
     },
     "execution_count": 107,
     "metadata": {},
     "output_type": "execute_result"
    }
   ],
   "source": [
    "df['fields'].head()\n"
   ]
  },
  {
   "cell_type": "code",
   "execution_count": 113,
   "id": "5eaab140",
   "metadata": {},
   "outputs": [
    {
     "data": {
      "text/plain": [
       "0       {'type_de_commerce': 'Boulangerie - pâtisserie...\n",
       "1       {'type_de_commerce': 'Boucherie - charcuterie ...\n",
       "2       {'type_de_commerce': 'Boucherie - charcuterie ...\n",
       "3       {'type_de_commerce': 'Fromagerie', 'nom_du_com...\n",
       "4       {'type_de_commerce': 'Boulangerie - pâtisserie...\n",
       "                              ...                        \n",
       "2498    {'type_de_commerce': 'Restaurant ou traiteur',...\n",
       "2499    {'type_de_commerce': 'Restaurant ou traiteur',...\n",
       "2500    {'geo_point_2d': [48.871943565248685, 2.362466...\n",
       "2501    {'type_de_commerce': 'Restaurant ou traiteur',...\n",
       "2502    {'type_de_commerce': 'Fromagerie', 'nom_du_com...\n",
       "Name: fields, Length: 2503, dtype: object"
      ]
     },
     "execution_count": 113,
     "metadata": {},
     "output_type": "execute_result"
    }
   ],
   "source": [
    "type(df['fields'])\n",
    "fields_Sries = df['fields']\n",
    "fields_Sries "
   ]
  },
  {
   "cell_type": "code",
   "execution_count": 102,
   "id": "865dbac3",
   "metadata": {},
   "outputs": [],
   "source": [
    "#testSerie\n",
    "\n",
    "#ConvertedFromSerie = fields_Sries.to_frame()\n",
    "#ConvertedFromSerie \n"
   ]
  },
  {
   "cell_type": "code",
   "execution_count": 111,
   "id": "3af678e3",
   "metadata": {},
   "outputs": [
    {
     "data": {
      "text/plain": [
       "{'type_de_commerce': 'Boulangerie - pâtisserie',\n",
       " 'nom_du_commerce': \"Gâteaux d'émotions - Philippe Conticini\",\n",
       " 'services': 'Livraisons à domicile',\n",
       " 'code_postal': '75007',\n",
       " 'geo_point_2d': [48.85408590374443, 2.323249674491748],\n",
       " 'geo_shape': {'coordinates': [2.323249674491748, 48.85408590374443],\n",
       "  'type': 'Point'},\n",
       " 'fabrique_a_paris': 'non',\n",
       " 'description': 'Pâtisseries',\n",
       " 'site_internet': 'https://www.epicery.com/epiceries/gateaux-demotions-philippe-conticini',\n",
       " 'mail': 'gateauxdemotions@conticini.fr',\n",
       " 'adresse': '37 Rue de Varenne'}"
      ]
     },
     "execution_count": 111,
     "metadata": {},
     "output_type": "execute_result"
    }
   ],
   "source": [
    "#######\n",
    "#Getting rows Done\n",
    "#Each row has attributes within itself\n",
    "######\n",
    "testFormate=df['fields']\n",
    "dict_testFormate=testFormate[0]\n",
    "dict_testFormate\n",
    "#type(dict_testFormate)"
   ]
  },
  {
   "cell_type": "code",
   "execution_count": 115,
   "id": "18d4f9fb",
   "metadata": {},
   "outputs": [
    {
     "data": {
      "text/html": [
       "<div>\n",
       "<style scoped>\n",
       "    .dataframe tbody tr th:only-of-type {\n",
       "        vertical-align: middle;\n",
       "    }\n",
       "\n",
       "    .dataframe tbody tr th {\n",
       "        vertical-align: top;\n",
       "    }\n",
       "\n",
       "    .dataframe thead th {\n",
       "        text-align: right;\n",
       "    }\n",
       "</style>\n",
       "<table border=\"1\" class=\"dataframe\">\n",
       "  <thead>\n",
       "    <tr style=\"text-align: right;\">\n",
       "      <th></th>\n",
       "      <th>type_de_commerce</th>\n",
       "      <th>nom_du_commerce</th>\n",
       "      <th>service</th>\n",
       "      <th>code_postal</th>\n",
       "      <th>fabrique_a_paris</th>\n",
       "      <th>description</th>\n",
       "      <th>site_internet</th>\n",
       "    </tr>\n",
       "  </thead>\n",
       "  <tbody>\n",
       "    <tr>\n",
       "      <th>1</th>\n",
       "      <td>Boulangerie - pâtisserie</td>\n",
       "      <td>Gâteaux d'émotions - Philippe Conticini</td>\n",
       "      <td>Livraisons à domicile</td>\n",
       "      <td>75007</td>\n",
       "      <td>non</td>\n",
       "      <td>Pâtisseries</td>\n",
       "      <td>https://www.epicery.com/epiceries/gateaux-demo...</td>\n",
       "    </tr>\n",
       "  </tbody>\n",
       "</table>\n",
       "</div>"
      ],
      "text/plain": [
       "           type_de_commerce                          nom_du_commerce  \\\n",
       "1  Boulangerie - pâtisserie  Gâteaux d'émotions - Philippe Conticini   \n",
       "\n",
       "                 service code_postal fabrique_a_paris  description  \\\n",
       "1  Livraisons à domicile       75007              non  Pâtisseries   \n",
       "\n",
       "                                       site_internet  \n",
       "1  https://www.epicery.com/epiceries/gateaux-demo...  "
      ]
     },
     "execution_count": 115,
     "metadata": {},
     "output_type": "execute_result"
    }
   ],
   "source": [
    "df = pd.DataFrame(list(dict_testFormate.items()))\n",
    "df_Transposed = df.transpose()\n",
    "\n",
    "#delete unecessary columns\n",
    "del df_Transposed[5]\n",
    "del df_Transposed[4]\n",
    "del df_Transposed[9]\n",
    "del df_Transposed[10]\n",
    "#rename columns\n",
    "df_Transposed.rename(columns={0:'type_de_commerce',1:'nom_du_commerce',2:'service',3:'code_postal',6:'fabrique_a_paris',7:'description',8:'site_internet'}, inplace=True)\n",
    "df_Transposed.drop(0)\n"
   ]
  },
  {
   "cell_type": "code",
   "execution_count": 147,
   "id": "6c6db818",
   "metadata": {},
   "outputs": [
    {
     "ename": "TypeError",
     "evalue": "'list' object is not callable",
     "output_type": "error",
     "traceback": [
      "\u001b[1;31m---------------------------------------------------------------------------\u001b[0m",
      "\u001b[1;31mTypeError\u001b[0m                                 Traceback (most recent call last)",
      "\u001b[1;32m~\\AppData\\Local\\Temp\\ipykernel_11708\\2346658564.py\u001b[0m in \u001b[0;36m<module>\u001b[1;34m\u001b[0m\n\u001b[0;32m      4\u001b[0m \u001b[1;33m\u001b[0m\u001b[0m\n\u001b[0;32m      5\u001b[0m     \u001b[0mdict_testFormate\u001b[0m \u001b[1;33m=\u001b[0m \u001b[0mi\u001b[0m\u001b[1;33m\u001b[0m\u001b[1;33m\u001b[0m\u001b[0m\n\u001b[1;32m----> 6\u001b[1;33m     \u001b[0mdf_result\u001b[0m \u001b[1;33m=\u001b[0m \u001b[0mpd\u001b[0m\u001b[1;33m.\u001b[0m\u001b[0mDataFrame\u001b[0m\u001b[1;33m(\u001b[0m\u001b[0mlist\u001b[0m\u001b[1;33m(\u001b[0m\u001b[0mi\u001b[0m\u001b[1;33m.\u001b[0m\u001b[0mitems\u001b[0m\u001b[1;33m(\u001b[0m\u001b[1;33m)\u001b[0m\u001b[1;33m)\u001b[0m\u001b[1;33m)\u001b[0m\u001b[1;33m\u001b[0m\u001b[1;33m\u001b[0m\u001b[0m\n\u001b[0m\u001b[0;32m      7\u001b[0m     \u001b[1;31m# getting the second column which contains attributes : print(df_result[1])\u001b[0m\u001b[1;33m\u001b[0m\u001b[1;33m\u001b[0m\u001b[0m\n\u001b[0;32m      8\u001b[0m     \u001b[0mprint\u001b[0m\u001b[1;33m(\u001b[0m\u001b[0mdf_result\u001b[0m\u001b[1;33m[\u001b[0m\u001b[1;36m1\u001b[0m\u001b[1;33m]\u001b[0m\u001b[1;33m.\u001b[0m\u001b[0mtolist\u001b[0m\u001b[1;33m(\u001b[0m\u001b[1;33m)\u001b[0m\u001b[1;33m,\u001b[0m\u001b[1;34m\"\\n\"\u001b[0m\u001b[1;33m)\u001b[0m\u001b[1;33m\u001b[0m\u001b[1;33m\u001b[0m\u001b[0m\n",
      "\u001b[1;31mTypeError\u001b[0m: 'list' object is not callable"
     ]
    }
   ],
   "source": [
    "#generalizing getting data\n",
    "\n",
    "for i in testFormate:\n",
    "    \n",
    "    dict_testFormate = i\n",
    "    df_result = pd.DataFrame(list(i.items()))\n",
    "    # getting the second column which contains attributes : print(df_result[1])\n",
    "    print(df_result[1].tolist(),\"\\n\")\n",
    "    list.append(df_result[1].tolist())\n",
    "    \n",
    "    \n",
    "    \n",
    "    \n",
    "    \n",
    "    #T=df_result.transpose()\n",
    "    #print(T)\n",
    "    #T.drop(0)\n",
    "    #print(T,\"#################################next\")\n",
    "  \n",
    "\n",
    "    "
   ]
  },
  {
   "cell_type": "code",
   "execution_count": null,
   "id": "e11036b7",
   "metadata": {},
   "outputs": [],
   "source": [
    "#df.info()"
   ]
  },
  {
   "cell_type": "code",
   "execution_count": null,
   "id": "ef1c62be",
   "metadata": {},
   "outputs": [],
   "source": [
    "\n",
    "\n"
   ]
  },
  {
   "cell_type": "code",
   "execution_count": 57,
   "id": "dc1f50c4",
   "metadata": {},
   "outputs": [],
   "source": [
    "#df.info()"
   ]
  },
  {
   "cell_type": "code",
   "execution_count": null,
   "id": "bf972a53",
   "metadata": {},
   "outputs": [],
   "source": [
    "\n"
   ]
  },
  {
   "cell_type": "code",
   "execution_count": null,
   "id": "4c857baa",
   "metadata": {},
   "outputs": [],
   "source": []
  }
 ],
 "metadata": {
  "kernelspec": {
   "display_name": "Python 3 (ipykernel)",
   "language": "python",
   "name": "python3"
  },
  "language_info": {
   "codemirror_mode": {
    "name": "ipython",
    "version": 3
   },
   "file_extension": ".py",
   "mimetype": "text/x-python",
   "name": "python",
   "nbconvert_exporter": "python",
   "pygments_lexer": "ipython3",
   "version": "3.9.13"
  }
 },
 "nbformat": 4,
 "nbformat_minor": 5
}
